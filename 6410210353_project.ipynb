{
  "nbformat": 4,
  "nbformat_minor": 0,
  "metadata": {
    "colab": {
      "provenance": [],
      "authorship_tag": "ABX9TyNxp04rKRl2MMy5wkbgekEJ",
      "include_colab_link": true
    },
    "kernelspec": {
      "name": "python3",
      "display_name": "Python 3"
    },
    "language_info": {
      "name": "python"
    }
  },
  "cells": [
    {
      "cell_type": "markdown",
      "metadata": {
        "id": "view-in-github",
        "colab_type": "text"
      },
      "source": [
        "<a href=\"https://colab.research.google.com/github/wiinawcyk/344-331/blob/main/6410210353_project.ipynb\" target=\"_parent\"><img src=\"https://colab.research.google.com/assets/colab-badge.svg\" alt=\"Open In Colab\"/></a>"
      ]
    },
    {
      "cell_type": "code",
      "execution_count": 3,
      "metadata": {
        "id": "OWyXWg6uqn-M",
        "colab": {
          "base_uri": "https://localhost:8080/"
        },
        "outputId": "a8bbbcb2-7625-4d33-9e16-f27920fba816"
      },
      "outputs": [
        {
          "output_type": "stream",
          "name": "stdout",
          "text": [
            "Mounted at /content/drive\n"
          ]
        }
      ],
      "source": [
        "import numpy as np\n",
        "import pandas as pd\n",
        "import os\n",
        "\n",
        "from google.colab import drive\n",
        "drive.mount('/content/drive')"
      ]
    },
    {
      "cell_type": "code",
      "source": [
        "path = \"/content/drive/MyDrive/Colab Notebooks/Data Sci/Covid19-dataset\" #dataset path\n",
        "for dirname, _, filenames in os.walk(path):\n",
        "    for filename in filenames:\n",
        "        print(os.path.join(dirname, filename))"
      ],
      "metadata": {
        "id": "b-MSEB-9Lo58",
        "colab": {
          "base_uri": "https://localhost:8080/"
        },
        "outputId": "340ee453-5e06-4e24-d798-8ebf53aad2b7"
      },
      "execution_count": 4,
      "outputs": [
        {
          "output_type": "stream",
          "name": "stdout",
          "text": [
            "/content/drive/MyDrive/Colab Notebooks/Data Sci/Covid19-dataset/test/Covid/0100.jpeg\n",
            "/content/drive/MyDrive/Colab Notebooks/Data Sci/Covid19-dataset/test/Covid/094.png\n",
            "/content/drive/MyDrive/Colab Notebooks/Data Sci/Covid19-dataset/test/Covid/0102.jpeg\n",
            "/content/drive/MyDrive/Colab Notebooks/Data Sci/Covid19-dataset/test/Covid/0111.jpg\n",
            "/content/drive/MyDrive/Colab Notebooks/Data Sci/Covid19-dataset/test/Covid/098.jpeg\n",
            "/content/drive/MyDrive/Colab Notebooks/Data Sci/Covid19-dataset/test/Covid/auntminnie-c-2020_01_28_23_51_6665_2020_01_28_Vietnam_coronavirus.jpeg\n",
            "/content/drive/MyDrive/Colab Notebooks/Data Sci/Covid19-dataset/test/Covid/auntminnie-d-2020_01_28_23_51_6665_2020_01_28_Vietnam_coronavirus.jpeg\n",
            "/content/drive/MyDrive/Colab Notebooks/Data Sci/Covid19-dataset/test/Covid/0112.jpg\n",
            "/content/drive/MyDrive/Colab Notebooks/Data Sci/Covid19-dataset/test/Covid/0115.jpeg\n",
            "/content/drive/MyDrive/Colab Notebooks/Data Sci/Covid19-dataset/test/Covid/COVID-00033.jpg\n",
            "/content/drive/MyDrive/Colab Notebooks/Data Sci/Covid19-dataset/test/Covid/auntminnie-2020_01_31_20_24_2322_2020_01_31_x-ray_coronavirus_US.jpg\n",
            "/content/drive/MyDrive/Colab Notebooks/Data Sci/Covid19-dataset/test/Covid/0108.jpeg\n",
            "/content/drive/MyDrive/Colab Notebooks/Data Sci/Covid19-dataset/test/Covid/0105.png\n",
            "/content/drive/MyDrive/Colab Notebooks/Data Sci/Covid19-dataset/test/Covid/auntminnie-a-2020_01_28_23_51_6665_2020_01_28_Vietnam_coronavirus.jpeg\n",
            "/content/drive/MyDrive/Colab Notebooks/Data Sci/Covid19-dataset/test/Covid/radiopaedia-2019-novel-coronavirus-infected-pneumonia.jpg\n",
            "/content/drive/MyDrive/Colab Notebooks/Data Sci/Covid19-dataset/test/Covid/COVID-00012.jpg\n",
            "/content/drive/MyDrive/Colab Notebooks/Data Sci/Covid19-dataset/test/Covid/0113.jpg\n",
            "/content/drive/MyDrive/Colab Notebooks/Data Sci/Covid19-dataset/test/Covid/0120.jpg\n",
            "/content/drive/MyDrive/Colab Notebooks/Data Sci/Covid19-dataset/test/Covid/096.png\n",
            "/content/drive/MyDrive/Colab Notebooks/Data Sci/Covid19-dataset/test/Covid/COVID-00022.jpg\n",
            "/content/drive/MyDrive/Colab Notebooks/Data Sci/Covid19-dataset/test/Covid/auntminnie-b-2020_01_28_23_51_6665_2020_01_28_Vietnam_coronavirus.jpeg\n",
            "/content/drive/MyDrive/Colab Notebooks/Data Sci/Covid19-dataset/test/Covid/0106.jpeg\n",
            "/content/drive/MyDrive/Colab Notebooks/Data Sci/Covid19-dataset/test/Covid/0119.jpeg\n",
            "/content/drive/MyDrive/Colab Notebooks/Data Sci/Covid19-dataset/test/Covid/COVID-00037.jpg\n",
            "/content/drive/MyDrive/Colab Notebooks/Data Sci/Covid19-dataset/test/Covid/COVID-00003b.jpg\n",
            "/content/drive/MyDrive/Colab Notebooks/Data Sci/Covid19-dataset/test/Covid/0118.jpeg\n",
            "/content/drive/MyDrive/Colab Notebooks/Data Sci/Covid19-dataset/test/Normal/0119.jpeg\n",
            "/content/drive/MyDrive/Colab Notebooks/Data Sci/Covid19-dataset/test/Normal/0111.jpeg\n",
            "/content/drive/MyDrive/Colab Notebooks/Data Sci/Covid19-dataset/test/Normal/0117.jpeg\n",
            "/content/drive/MyDrive/Colab Notebooks/Data Sci/Covid19-dataset/test/Normal/0102.jpeg\n",
            "/content/drive/MyDrive/Colab Notebooks/Data Sci/Covid19-dataset/test/Normal/0115.jpeg\n",
            "/content/drive/MyDrive/Colab Notebooks/Data Sci/Covid19-dataset/test/Normal/0122.jpeg\n",
            "/content/drive/MyDrive/Colab Notebooks/Data Sci/Covid19-dataset/test/Normal/0112.jpeg\n",
            "/content/drive/MyDrive/Colab Notebooks/Data Sci/Covid19-dataset/test/Normal/0116.jpeg\n",
            "/content/drive/MyDrive/Colab Notebooks/Data Sci/Covid19-dataset/test/Normal/0106.jpeg\n",
            "/content/drive/MyDrive/Colab Notebooks/Data Sci/Covid19-dataset/test/Normal/0118.jpeg\n",
            "/content/drive/MyDrive/Colab Notebooks/Data Sci/Covid19-dataset/test/Normal/0121.jpeg\n",
            "/content/drive/MyDrive/Colab Notebooks/Data Sci/Covid19-dataset/test/Normal/0101.jpeg\n",
            "/content/drive/MyDrive/Colab Notebooks/Data Sci/Covid19-dataset/test/Normal/0107.jpeg\n",
            "/content/drive/MyDrive/Colab Notebooks/Data Sci/Covid19-dataset/test/Normal/0114.jpeg\n",
            "/content/drive/MyDrive/Colab Notebooks/Data Sci/Covid19-dataset/test/Normal/0120.jpeg\n",
            "/content/drive/MyDrive/Colab Notebooks/Data Sci/Covid19-dataset/test/Normal/0105.jpeg\n",
            "/content/drive/MyDrive/Colab Notebooks/Data Sci/Covid19-dataset/test/Normal/0103.jpeg\n",
            "/content/drive/MyDrive/Colab Notebooks/Data Sci/Covid19-dataset/test/Normal/0109.jpeg\n",
            "/content/drive/MyDrive/Colab Notebooks/Data Sci/Covid19-dataset/test/Normal/0108.jpeg\n",
            "/content/drive/MyDrive/Colab Notebooks/Data Sci/Covid19-dataset/test/Normal/0110.jpeg\n",
            "/content/drive/MyDrive/Colab Notebooks/Data Sci/Covid19-dataset/test/Viral Pneumonia/0118.jpeg\n",
            "/content/drive/MyDrive/Colab Notebooks/Data Sci/Covid19-dataset/test/Viral Pneumonia/0105.jpeg\n",
            "/content/drive/MyDrive/Colab Notebooks/Data Sci/Covid19-dataset/test/Viral Pneumonia/0110.jpeg\n",
            "/content/drive/MyDrive/Colab Notebooks/Data Sci/Covid19-dataset/test/Viral Pneumonia/0112.jpeg\n",
            "/content/drive/MyDrive/Colab Notebooks/Data Sci/Covid19-dataset/test/Viral Pneumonia/0114.jpeg\n",
            "/content/drive/MyDrive/Colab Notebooks/Data Sci/Covid19-dataset/test/Viral Pneumonia/0115.jpeg\n",
            "/content/drive/MyDrive/Colab Notebooks/Data Sci/Covid19-dataset/test/Viral Pneumonia/0119.jpeg\n",
            "/content/drive/MyDrive/Colab Notebooks/Data Sci/Covid19-dataset/test/Viral Pneumonia/0116.jpeg\n",
            "/content/drive/MyDrive/Colab Notebooks/Data Sci/Covid19-dataset/test/Viral Pneumonia/0107.jpeg\n",
            "/content/drive/MyDrive/Colab Notebooks/Data Sci/Covid19-dataset/test/Viral Pneumonia/0104.jpeg\n",
            "/content/drive/MyDrive/Colab Notebooks/Data Sci/Covid19-dataset/test/Viral Pneumonia/0117.jpeg\n",
            "/content/drive/MyDrive/Colab Notebooks/Data Sci/Covid19-dataset/test/Viral Pneumonia/0109.jpeg\n",
            "/content/drive/MyDrive/Colab Notebooks/Data Sci/Covid19-dataset/test/Viral Pneumonia/0101.jpeg\n",
            "/content/drive/MyDrive/Colab Notebooks/Data Sci/Covid19-dataset/test/Viral Pneumonia/0108.jpeg\n",
            "/content/drive/MyDrive/Colab Notebooks/Data Sci/Covid19-dataset/test/Viral Pneumonia/0113.jpeg\n",
            "/content/drive/MyDrive/Colab Notebooks/Data Sci/Covid19-dataset/test/Viral Pneumonia/0111.jpeg\n",
            "/content/drive/MyDrive/Colab Notebooks/Data Sci/Covid19-dataset/test/Viral Pneumonia/0106.jpeg\n",
            "/content/drive/MyDrive/Colab Notebooks/Data Sci/Covid19-dataset/test/Viral Pneumonia/0102.jpeg\n",
            "/content/drive/MyDrive/Colab Notebooks/Data Sci/Covid19-dataset/test/Viral Pneumonia/0103.jpeg\n",
            "/content/drive/MyDrive/Colab Notebooks/Data Sci/Covid19-dataset/test/Viral Pneumonia/0120.jpeg\n",
            "/content/drive/MyDrive/Colab Notebooks/Data Sci/Covid19-dataset/train/Viral Pneumonia/03.jpeg\n",
            "/content/drive/MyDrive/Colab Notebooks/Data Sci/Covid19-dataset/train/Viral Pneumonia/023.jpeg\n",
            "/content/drive/MyDrive/Colab Notebooks/Data Sci/Covid19-dataset/train/Viral Pneumonia/020.jpeg\n",
            "/content/drive/MyDrive/Colab Notebooks/Data Sci/Covid19-dataset/train/Viral Pneumonia/025.jpeg\n",
            "/content/drive/MyDrive/Colab Notebooks/Data Sci/Covid19-dataset/train/Viral Pneumonia/013.jpeg\n",
            "/content/drive/MyDrive/Colab Notebooks/Data Sci/Covid19-dataset/train/Viral Pneumonia/019.jpeg\n",
            "/content/drive/MyDrive/Colab Notebooks/Data Sci/Covid19-dataset/train/Viral Pneumonia/018.jpeg\n",
            "/content/drive/MyDrive/Colab Notebooks/Data Sci/Covid19-dataset/train/Viral Pneumonia/01.jpeg\n",
            "/content/drive/MyDrive/Colab Notebooks/Data Sci/Covid19-dataset/train/Viral Pneumonia/022.jpeg\n",
            "/content/drive/MyDrive/Colab Notebooks/Data Sci/Covid19-dataset/train/Viral Pneumonia/012.jpeg\n",
            "/content/drive/MyDrive/Colab Notebooks/Data Sci/Covid19-dataset/train/Viral Pneumonia/016.jpeg\n",
            "/content/drive/MyDrive/Colab Notebooks/Data Sci/Covid19-dataset/train/Viral Pneumonia/021.jpeg\n",
            "/content/drive/MyDrive/Colab Notebooks/Data Sci/Covid19-dataset/train/Viral Pneumonia/027.jpeg\n",
            "/content/drive/MyDrive/Colab Notebooks/Data Sci/Covid19-dataset/train/Viral Pneumonia/024.jpeg\n",
            "/content/drive/MyDrive/Colab Notebooks/Data Sci/Covid19-dataset/train/Viral Pneumonia/010.jpeg\n",
            "/content/drive/MyDrive/Colab Notebooks/Data Sci/Covid19-dataset/train/Viral Pneumonia/031.jpeg\n",
            "/content/drive/MyDrive/Colab Notebooks/Data Sci/Covid19-dataset/train/Viral Pneumonia/032.jpeg\n",
            "/content/drive/MyDrive/Colab Notebooks/Data Sci/Covid19-dataset/train/Viral Pneumonia/011.jpeg\n",
            "/content/drive/MyDrive/Colab Notebooks/Data Sci/Covid19-dataset/train/Viral Pneumonia/02.jpeg\n",
            "/content/drive/MyDrive/Colab Notebooks/Data Sci/Covid19-dataset/train/Normal/02.jpeg\n",
            "/content/drive/MyDrive/Colab Notebooks/Data Sci/Covid19-dataset/train/Normal/01.jpeg\n",
            "/content/drive/MyDrive/Colab Notebooks/Data Sci/Covid19-dataset/train/Normal/052.jpeg\n",
            "/content/drive/MyDrive/Colab Notebooks/Data Sci/Covid19-dataset/train/Normal/013.jpeg\n",
            "/content/drive/MyDrive/Colab Notebooks/Data Sci/Covid19-dataset/train/Normal/058.jpeg\n",
            "/content/drive/MyDrive/Colab Notebooks/Data Sci/Covid19-dataset/train/Normal/016.jpeg\n",
            "/content/drive/MyDrive/Colab Notebooks/Data Sci/Covid19-dataset/train/Normal/019.jpeg\n",
            "/content/drive/MyDrive/Colab Notebooks/Data Sci/Covid19-dataset/train/Normal/03.jpeg\n",
            "/content/drive/MyDrive/Colab Notebooks/Data Sci/Covid19-dataset/train/Normal/063.jpeg\n",
            "/content/drive/MyDrive/Colab Notebooks/Data Sci/Covid19-dataset/train/Normal/069.jpeg\n",
            "/content/drive/MyDrive/Colab Notebooks/Data Sci/Covid19-dataset/train/Normal/061.jpeg\n",
            "/content/drive/MyDrive/Colab Notebooks/Data Sci/Covid19-dataset/train/Normal/068.jpeg\n",
            "/content/drive/MyDrive/Colab Notebooks/Data Sci/Covid19-dataset/train/Normal/065.jpeg\n",
            "/content/drive/MyDrive/Colab Notebooks/Data Sci/Covid19-dataset/train/Normal/015.jpeg\n",
            "/content/drive/MyDrive/Colab Notebooks/Data Sci/Covid19-dataset/train/Normal/057.jpeg\n",
            "/content/drive/MyDrive/Colab Notebooks/Data Sci/Covid19-dataset/train/Normal/066.jpeg\n",
            "/content/drive/MyDrive/Colab Notebooks/Data Sci/Covid19-dataset/train/Normal/053.jpeg\n",
            "/content/drive/MyDrive/Colab Notebooks/Data Sci/Covid19-dataset/train/Normal/024.jpeg\n",
            "/content/drive/MyDrive/Colab Notebooks/Data Sci/Covid19-dataset/train/Normal/06.jpeg\n",
            "/content/drive/MyDrive/Colab Notebooks/Data Sci/Covid19-dataset/train/Normal/070.jpeg\n",
            "/content/drive/MyDrive/Colab Notebooks/Data Sci/Covid19-dataset/train/Normal/060.jpeg\n",
            "/content/drive/MyDrive/Colab Notebooks/Data Sci/Covid19-dataset/train/Normal/067.jpeg\n",
            "/content/drive/MyDrive/Colab Notebooks/Data Sci/Covid19-dataset/train/Normal/07.jpeg\n",
            "/content/drive/MyDrive/Colab Notebooks/Data Sci/Covid19-dataset/train/Normal/071.jpeg\n",
            "/content/drive/MyDrive/Colab Notebooks/Data Sci/Covid19-dataset/train/Normal/017.jpeg\n",
            "/content/drive/MyDrive/Colab Notebooks/Data Sci/Covid19-dataset/train/Normal/05.jpeg\n",
            "/content/drive/MyDrive/Colab Notebooks/Data Sci/Covid19-dataset/train/Normal/023.jpeg\n",
            "/content/drive/MyDrive/Colab Notebooks/Data Sci/Covid19-dataset/train/Normal/014.jpeg\n",
            "/content/drive/MyDrive/Colab Notebooks/Data Sci/Covid19-dataset/train/Normal/062.jpeg\n",
            "/content/drive/MyDrive/Colab Notebooks/Data Sci/Covid19-dataset/train/Normal/012.jpeg\n",
            "/content/drive/MyDrive/Colab Notebooks/Data Sci/Covid19-dataset/train/Normal/055.jpeg\n",
            "/content/drive/MyDrive/Colab Notebooks/Data Sci/Covid19-dataset/train/Normal/056.jpeg\n",
            "/content/drive/MyDrive/Colab Notebooks/Data Sci/Covid19-dataset/train/Normal/054.jpeg\n",
            "/content/drive/MyDrive/Colab Notebooks/Data Sci/Covid19-dataset/train/Normal/022.jpeg\n",
            "/content/drive/MyDrive/Colab Notebooks/Data Sci/Covid19-dataset/train/Normal/051.jpeg\n",
            "/content/drive/MyDrive/Colab Notebooks/Data Sci/Covid19-dataset/train/Normal/020.jpeg\n",
            "/content/drive/MyDrive/Colab Notebooks/Data Sci/Covid19-dataset/train/Normal/025.jpeg\n",
            "/content/drive/MyDrive/Colab Notebooks/Data Sci/Covid19-dataset/train/Normal/021.jpeg\n",
            "/content/drive/MyDrive/Colab Notebooks/Data Sci/Covid19-dataset/train/Normal/04.jpeg\n",
            "/content/drive/MyDrive/Colab Notebooks/Data Sci/Covid19-dataset/train/Normal/064.jpeg\n",
            "/content/drive/MyDrive/Colab Notebooks/Data Sci/Covid19-dataset/train/Normal/011.jpeg\n",
            "/content/drive/MyDrive/Colab Notebooks/Data Sci/Covid19-dataset/train/Normal/059.jpeg\n",
            "/content/drive/MyDrive/Colab Notebooks/Data Sci/Covid19-dataset/train/Normal/050.jpeg\n",
            "/content/drive/MyDrive/Colab Notebooks/Data Sci/Covid19-dataset/train/Normal/010.jpeg\n",
            "/content/drive/MyDrive/Colab Notebooks/Data Sci/Covid19-dataset/train/Normal/018.jpeg\n",
            "/content/drive/MyDrive/Colab Notebooks/Data Sci/Covid19-dataset/train/Normal/096.jpeg\n",
            "/content/drive/MyDrive/Colab Notebooks/Data Sci/Covid19-dataset/train/Normal/091.jpeg\n",
            "/content/drive/MyDrive/Colab Notebooks/Data Sci/Covid19-dataset/train/Normal/085.jpeg\n",
            "/content/drive/MyDrive/Colab Notebooks/Data Sci/Covid19-dataset/train/Normal/087.jpeg\n",
            "/content/drive/MyDrive/Colab Notebooks/Data Sci/Covid19-dataset/train/Normal/09.jpeg\n",
            "/content/drive/MyDrive/Colab Notebooks/Data Sci/Covid19-dataset/train/Normal/082.jpeg\n",
            "/content/drive/MyDrive/Colab Notebooks/Data Sci/Covid19-dataset/train/Normal/074.jpeg\n",
            "/content/drive/MyDrive/Colab Notebooks/Data Sci/Covid19-dataset/train/Normal/094.jpeg\n",
            "/content/drive/MyDrive/Colab Notebooks/Data Sci/Covid19-dataset/train/Normal/073.jpeg\n",
            "/content/drive/MyDrive/Colab Notebooks/Data Sci/Covid19-dataset/train/Normal/079.jpeg\n",
            "/content/drive/MyDrive/Colab Notebooks/Data Sci/Covid19-dataset/train/Normal/077.jpeg\n",
            "/content/drive/MyDrive/Colab Notebooks/Data Sci/Covid19-dataset/train/Normal/092.jpeg\n",
            "/content/drive/MyDrive/Colab Notebooks/Data Sci/Covid19-dataset/train/Normal/093.jpeg\n",
            "/content/drive/MyDrive/Colab Notebooks/Data Sci/Covid19-dataset/train/Normal/080.jpeg\n",
            "/content/drive/MyDrive/Colab Notebooks/Data Sci/Covid19-dataset/train/Normal/086.jpeg\n",
            "/content/drive/MyDrive/Colab Notebooks/Data Sci/Covid19-dataset/train/Normal/095.jpeg\n",
            "/content/drive/MyDrive/Colab Notebooks/Data Sci/Covid19-dataset/train/Normal/072.jpeg\n",
            "/content/drive/MyDrive/Colab Notebooks/Data Sci/Covid19-dataset/train/Normal/097.jpeg\n",
            "/content/drive/MyDrive/Colab Notebooks/Data Sci/Covid19-dataset/train/Normal/084.jpeg\n",
            "/content/drive/MyDrive/Colab Notebooks/Data Sci/Covid19-dataset/train/Normal/08.jpeg\n",
            "/content/drive/MyDrive/Colab Notebooks/Data Sci/Covid19-dataset/train/Normal/083.jpeg\n",
            "/content/drive/MyDrive/Colab Notebooks/Data Sci/Covid19-dataset/train/Normal/081.jpeg\n",
            "/content/drive/MyDrive/Colab Notebooks/Data Sci/Covid19-dataset/train/Normal/076.jpeg\n",
            "/content/drive/MyDrive/Colab Notebooks/Data Sci/Covid19-dataset/train/Normal/075.jpeg\n",
            "/content/drive/MyDrive/Colab Notebooks/Data Sci/Covid19-dataset/train/Normal/088.jpeg\n",
            "/content/drive/MyDrive/Colab Notebooks/Data Sci/Covid19-dataset/train/Covid/026.jpeg\n",
            "/content/drive/MyDrive/Colab Notebooks/Data Sci/Covid19-dataset/train/Covid/020.jpg\n",
            "/content/drive/MyDrive/Colab Notebooks/Data Sci/Covid19-dataset/train/Covid/024.jpeg\n",
            "/content/drive/MyDrive/Colab Notebooks/Data Sci/Covid19-dataset/train/Covid/027.jpeg\n",
            "/content/drive/MyDrive/Colab Notebooks/Data Sci/Covid19-dataset/train/Covid/012.jpeg\n",
            "/content/drive/MyDrive/Colab Notebooks/Data Sci/Covid19-dataset/train/Covid/025.jpeg\n",
            "/content/drive/MyDrive/Colab Notebooks/Data Sci/Covid19-dataset/train/Covid/021.jpeg\n",
            "/content/drive/MyDrive/Colab Notebooks/Data Sci/Covid19-dataset/train/Covid/02.jpeg\n",
            "/content/drive/MyDrive/Colab Notebooks/Data Sci/Covid19-dataset/train/Covid/019.png\n",
            "/content/drive/MyDrive/Colab Notebooks/Data Sci/Covid19-dataset/train/Covid/010.png\n",
            "/content/drive/MyDrive/Colab Notebooks/Data Sci/Covid19-dataset/train/Covid/01.jpeg\n",
            "/content/drive/MyDrive/Colab Notebooks/Data Sci/Covid19-dataset/train/Covid/015.jpg\n",
            "/content/drive/MyDrive/Colab Notebooks/Data Sci/Covid19-dataset/train/Covid/022.jpeg\n",
            "/content/drive/MyDrive/Colab Notebooks/Data Sci/Covid19-dataset/train/Covid/COVID-00003a.jpg\n",
            "/content/drive/MyDrive/Colab Notebooks/Data Sci/Covid19-dataset/train/Covid/053.jpeg\n",
            "/content/drive/MyDrive/Colab Notebooks/Data Sci/Covid19-dataset/train/Covid/088.jpeg\n",
            "/content/drive/MyDrive/Colab Notebooks/Data Sci/Covid19-dataset/train/Covid/040.jpeg\n",
            "/content/drive/MyDrive/Colab Notebooks/Data Sci/Covid19-dataset/train/Covid/044.jpeg\n",
            "/content/drive/MyDrive/Colab Notebooks/Data Sci/Covid19-dataset/train/Covid/089.jpg\n",
            "/content/drive/MyDrive/Colab Notebooks/Data Sci/Covid19-dataset/train/Covid/092.png\n",
            "/content/drive/MyDrive/Colab Notebooks/Data Sci/Covid19-dataset/train/Covid/08.jpeg\n",
            "/content/drive/MyDrive/Colab Notebooks/Data Sci/Covid19-dataset/train/Covid/071.jpg\n",
            "/content/drive/MyDrive/Colab Notebooks/Data Sci/Covid19-dataset/train/Covid/051.jpeg\n",
            "/content/drive/MyDrive/Colab Notebooks/Data Sci/Covid19-dataset/train/Covid/07.jpg\n",
            "/content/drive/MyDrive/Colab Notebooks/Data Sci/Covid19-dataset/train/Covid/073.jpg\n",
            "/content/drive/MyDrive/Colab Notebooks/Data Sci/Covid19-dataset/train/Covid/072.jpeg\n",
            "/content/drive/MyDrive/Colab Notebooks/Data Sci/Covid19-dataset/train/Covid/085.jpeg\n",
            "/content/drive/MyDrive/Colab Notebooks/Data Sci/Covid19-dataset/train/Covid/043.jpeg\n",
            "/content/drive/MyDrive/Colab Notebooks/Data Sci/Covid19-dataset/train/Covid/082.jpg\n",
            "/content/drive/MyDrive/Colab Notebooks/Data Sci/Covid19-dataset/train/Covid/076.jpg\n",
            "/content/drive/MyDrive/Colab Notebooks/Data Sci/Covid19-dataset/train/Covid/055.jpeg\n",
            "/content/drive/MyDrive/Colab Notebooks/Data Sci/Covid19-dataset/train/Covid/06.jpeg\n",
            "/content/drive/MyDrive/Colab Notebooks/Data Sci/Covid19-dataset/train/Covid/COVID-00005.jpg\n",
            "/content/drive/MyDrive/Colab Notebooks/Data Sci/Covid19-dataset/train/Covid/033.png\n",
            "/content/drive/MyDrive/Colab Notebooks/Data Sci/Covid19-dataset/train/Covid/COVID-00009.jpg\n",
            "/content/drive/MyDrive/Colab Notebooks/Data Sci/Covid19-dataset/train/Covid/069.jpg\n",
            "/content/drive/MyDrive/Colab Notebooks/Data Sci/Covid19-dataset/train/Covid/061.jpg\n",
            "/content/drive/MyDrive/Colab Notebooks/Data Sci/Covid19-dataset/train/Covid/COVID-00013a.jpg\n",
            "/content/drive/MyDrive/Colab Notebooks/Data Sci/Covid19-dataset/train/Covid/COVID-00002.jpg\n",
            "/content/drive/MyDrive/Colab Notebooks/Data Sci/Covid19-dataset/train/Covid/COVID-00004.jpg\n",
            "/content/drive/MyDrive/Colab Notebooks/Data Sci/Covid19-dataset/train/Covid/080.jpg\n",
            "/content/drive/MyDrive/Colab Notebooks/Data Sci/Covid19-dataset/train/Covid/COVID-00003b.jpg\n",
            "/content/drive/MyDrive/Colab Notebooks/Data Sci/Covid19-dataset/train/Covid/062.jpeg\n",
            "/content/drive/MyDrive/Colab Notebooks/Data Sci/Covid19-dataset/train/Covid/083.jpeg\n",
            "/content/drive/MyDrive/Colab Notebooks/Data Sci/Covid19-dataset/train/Covid/032.jpeg\n",
            "/content/drive/MyDrive/Colab Notebooks/Data Sci/Covid19-dataset/train/Covid/091.jpg\n",
            "/content/drive/MyDrive/Colab Notebooks/Data Sci/Covid19-dataset/train/Covid/084.jpeg\n",
            "/content/drive/MyDrive/Colab Notebooks/Data Sci/Covid19-dataset/train/Covid/COVID-00011.jpg\n",
            "/content/drive/MyDrive/Colab Notebooks/Data Sci/Covid19-dataset/train/Covid/058.jpeg\n",
            "/content/drive/MyDrive/Colab Notebooks/Data Sci/Covid19-dataset/train/Covid/057.jpeg\n",
            "/content/drive/MyDrive/Colab Notebooks/Data Sci/Covid19-dataset/train/Covid/045.jpeg\n",
            "/content/drive/MyDrive/Colab Notebooks/Data Sci/Covid19-dataset/train/Covid/049.jpeg\n",
            "/content/drive/MyDrive/Colab Notebooks/Data Sci/Covid19-dataset/train/Covid/COVID-00006.jpg\n",
            "/content/drive/MyDrive/Colab Notebooks/Data Sci/Covid19-dataset/train/Covid/054.jpeg\n",
            "/content/drive/MyDrive/Colab Notebooks/Data Sci/Covid19-dataset/train/Covid/078.jpeg\n",
            "/content/drive/MyDrive/Colab Notebooks/Data Sci/Covid19-dataset/train/Covid/031.jpeg\n",
            "/content/drive/MyDrive/Colab Notebooks/Data Sci/Covid19-dataset/train/Covid/068.jpg\n",
            "/content/drive/MyDrive/Colab Notebooks/Data Sci/Covid19-dataset/train/Covid/COVID-00012.jpg\n",
            "/content/drive/MyDrive/Colab Notebooks/Data Sci/Covid19-dataset/train/Covid/COVID-00015a.png\n",
            "/content/drive/MyDrive/Colab Notebooks/Data Sci/Covid19-dataset/train/Covid/050.jpeg\n",
            "/content/drive/MyDrive/Colab Notebooks/Data Sci/Covid19-dataset/train/Covid/COVID-00008.jpg\n",
            "/content/drive/MyDrive/Colab Notebooks/Data Sci/Covid19-dataset/train/Covid/03.jpeg\n",
            "/content/drive/MyDrive/Colab Notebooks/Data Sci/Covid19-dataset/train/Covid/048.jpeg\n",
            "/content/drive/MyDrive/Colab Notebooks/Data Sci/Covid19-dataset/train/Covid/047.jpeg\n",
            "/content/drive/MyDrive/Colab Notebooks/Data Sci/Covid19-dataset/train/Covid/074.jpg\n",
            "/content/drive/MyDrive/Colab Notebooks/Data Sci/Covid19-dataset/train/Covid/052.jpeg\n",
            "/content/drive/MyDrive/Colab Notebooks/Data Sci/Covid19-dataset/train/Covid/041.jpeg\n",
            "/content/drive/MyDrive/Colab Notebooks/Data Sci/Covid19-dataset/train/Covid/060.jpeg\n",
            "/content/drive/MyDrive/Colab Notebooks/Data Sci/Covid19-dataset/train/Covid/059.jpeg\n",
            "/content/drive/MyDrive/Colab Notebooks/Data Sci/Covid19-dataset/train/Covid/COVID-00013b.jpg\n",
            "/content/drive/MyDrive/Colab Notebooks/Data Sci/Covid19-dataset/train/Covid/04.png\n",
            "/content/drive/MyDrive/Colab Notebooks/Data Sci/Covid19-dataset/train/Covid/COVID-00001.jpg\n",
            "/content/drive/MyDrive/Colab Notebooks/Data Sci/Covid19-dataset/train/Covid/042.jpeg\n",
            "/content/drive/MyDrive/Colab Notebooks/Data Sci/Covid19-dataset/train/Covid/067.jpg\n",
            "/content/drive/MyDrive/Colab Notebooks/Data Sci/Covid19-dataset/train/Covid/065.jpeg\n",
            "/content/drive/MyDrive/Colab Notebooks/Data Sci/Covid19-dataset/train/Covid/064.jpg\n",
            "/content/drive/MyDrive/Colab Notebooks/Data Sci/Covid19-dataset/train/Covid/090.jpeg\n",
            "/content/drive/MyDrive/Colab Notebooks/Data Sci/Covid19-dataset/train/Covid/081.jpeg\n",
            "/content/drive/MyDrive/Colab Notebooks/Data Sci/Covid19-dataset/train/Covid/039.jpeg\n",
            "/content/drive/MyDrive/Colab Notebooks/Data Sci/Covid19-dataset/train/Covid/COVID-00007.jpg\n",
            "/content/drive/MyDrive/Colab Notebooks/Data Sci/Covid19-dataset/train/Covid/046.jpeg\n",
            "/content/drive/MyDrive/Colab Notebooks/Data Sci/Covid19-dataset/train/Covid/079.jpeg\n",
            "/content/drive/MyDrive/Colab Notebooks/Data Sci/Covid19-dataset/train/Covid/056.jpg\n",
            "/content/drive/MyDrive/Colab Notebooks/Data Sci/Covid19-dataset/train/Covid/COVID-00010.jpg\n",
            "/content/drive/MyDrive/Colab Notebooks/Data Sci/Covid19-dataset/train/Covid/086.jpg\n",
            "/content/drive/MyDrive/Colab Notebooks/Data Sci/Covid19-dataset/train/Covid/COVID-00014.jpg\n",
            "/content/drive/MyDrive/Colab Notebooks/Data Sci/Covid19-dataset/train/Covid/09.png\n",
            "/content/drive/MyDrive/Colab Notebooks/Data Sci/Covid19-dataset/train/Covid/COVID-00029.jpg\n",
            "/content/drive/MyDrive/Colab Notebooks/Data Sci/Covid19-dataset/train/Covid/COVID-00018.jpg\n",
            "/content/drive/MyDrive/Colab Notebooks/Data Sci/Covid19-dataset/train/Covid/COVID-00028.jpg\n",
            "/content/drive/MyDrive/Colab Notebooks/Data Sci/Covid19-dataset/train/Covid/COVID-00025.jpg\n",
            "/content/drive/MyDrive/Colab Notebooks/Data Sci/Covid19-dataset/train/Covid/COVID-00038.jpg\n",
            "/content/drive/MyDrive/Colab Notebooks/Data Sci/Covid19-dataset/train/Covid/COVID-00026.jpg\n",
            "/content/drive/MyDrive/Colab Notebooks/Data Sci/Covid19-dataset/train/Covid/COVID-00032.jpg\n",
            "/content/drive/MyDrive/Colab Notebooks/Data Sci/Covid19-dataset/train/Covid/COVID-00037.jpg\n",
            "/content/drive/MyDrive/Colab Notebooks/Data Sci/Covid19-dataset/train/Covid/COVID-00023.jpg\n",
            "/content/drive/MyDrive/Colab Notebooks/Data Sci/Covid19-dataset/train/Covid/COVID-00019.jpg\n",
            "/content/drive/MyDrive/Colab Notebooks/Data Sci/Covid19-dataset/train/Covid/COVID-00036.jpg\n",
            "/content/drive/MyDrive/Colab Notebooks/Data Sci/Covid19-dataset/train/Covid/COVID-00031.jpg\n",
            "/content/drive/MyDrive/Colab Notebooks/Data Sci/Covid19-dataset/train/Covid/COVID-00033.jpg\n",
            "/content/drive/MyDrive/Colab Notebooks/Data Sci/Covid19-dataset/train/Covid/COVID-00022.jpg\n",
            "/content/drive/MyDrive/Colab Notebooks/Data Sci/Covid19-dataset/train/Covid/COVID-00034.jpg\n",
            "/content/drive/MyDrive/Colab Notebooks/Data Sci/Covid19-dataset/train/Covid/COVID-00015b.png\n",
            "/content/drive/MyDrive/Colab Notebooks/Data Sci/Covid19-dataset/train/Covid/COVID-00024.jpg\n",
            "/content/drive/MyDrive/Colab Notebooks/Data Sci/Covid19-dataset/train/Covid/COVID-00021.jpg\n",
            "/content/drive/MyDrive/Colab Notebooks/Data Sci/Covid19-dataset/train/Covid/COVID-00017.jpg\n",
            "/content/drive/MyDrive/Colab Notebooks/Data Sci/Covid19-dataset/train/Covid/COVID-00030.jpg\n",
            "/content/drive/MyDrive/Colab Notebooks/Data Sci/Covid19-dataset/train/Covid/COVID-00035.jpg\n",
            "/content/drive/MyDrive/Colab Notebooks/Data Sci/Covid19-dataset/train/Covid/COVID-00016.jpg\n",
            "/content/drive/MyDrive/Colab Notebooks/Data Sci/Covid19-dataset/train/Covid/COVID-00020.jpg\n",
            "/content/drive/MyDrive/Colab Notebooks/Data Sci/Covid19-dataset/train/Covid/COVID-00027.jpg\n",
            "/content/drive/MyDrive/Colab Notebooks/Data Sci/Covid19-dataset/input_image/covid1.jpg\n",
            "/content/drive/MyDrive/Colab Notebooks/Data Sci/Covid19-dataset/input_image/covid2.png\n"
          ]
        }
      ]
    },
    {
      "cell_type": "code",
      "source": [
        "import numpy as np\n",
        "import tensorflow as tf\n",
        "from tensorflow.keras.preprocessing.image import ImageDataGenerator\n",
        "from tensorflow.keras.models import Sequential\n",
        "from tensorflow.keras.layers import Conv2D, MaxPooling2D, Flatten, Dense\n",
        "import os\n",
        "import warnings\n",
        "warnings.filterwarnings(\"ignore\")\n",
        "\n",
        "#กำหนดที่อยู่ของโฟลเดอร์ของชุดข้อมูลฝึกและทดสอบ\n",
        "train_dir = \"/content/drive/MyDrive/Colab Notebooks/Data Sci/Covid19-dataset/train\" #train dataset path\n",
        "test_dir = \"/content/drive/MyDrive/Colab Notebooks/Data Sci/Covid19-dataset/test\"   #test dataset path\n",
        "\n",
        "#image size = 128*128 , 32 per batch\n",
        "img_width, img_height = 128, 128\n",
        "batch_size = 32\n",
        "\n",
        "\n",
        "train_dataset = ImageDataGenerator(\n",
        "    rescale=1. / 255,\n",
        "    rotation_range=20,\n",
        "    width_shift_range=0.2,\n",
        "    height_shift_range=0.2,\n",
        "    shear_range=0.2,\n",
        "    zoom_range=0.2,\n",
        "    horizontal_flip=True\n",
        ")\n",
        "\n",
        "test_dataset = ImageDataGenerator(rescale=1./255)"
      ],
      "metadata": {
        "id": "4pYOzy_hkzA-"
      },
      "execution_count": 9,
      "outputs": []
    },
    {
      "cell_type": "code",
      "source": [
        "#train test split\n",
        "\n",
        "X_train = train_dataset.flow_from_directory(\n",
        "    train_dir,\n",
        "    target_size=(img_width, img_height),\n",
        "    batch_size=batch_size,\n",
        "    class_mode=\"categorical\"\n",
        ")\n",
        "\n",
        "X_test = test_dataset.flow_from_directory(\n",
        "    test_dir,\n",
        "    target_size=(img_width, img_height),\n",
        "    batch_size=batch_size,\n",
        "    class_mode=\"categorical\"\n",
        ")"
      ],
      "metadata": {
        "colab": {
          "base_uri": "https://localhost:8080/"
        },
        "id": "tD7Q6I40A7Pg",
        "outputId": "391a14ee-1ef0-482b-9422-5057ac072964"
      },
      "execution_count": 10,
      "outputs": [
        {
          "output_type": "stream",
          "name": "stdout",
          "text": [
            "Found 200 images belonging to 3 classes.\n",
            "Found 66 images belonging to 3 classes.\n"
          ]
        }
      ]
    },
    {
      "cell_type": "code",
      "source": [
        "#create and train  model\n",
        "\n",
        "model = Sequential()\n",
        "\n",
        "model.add(Conv2D(32, (3, 3), activation='relu', input_shape=(128, 128, 3)))\n",
        "model.add(MaxPooling2D((2, 2)))\n",
        "\n",
        "model.add(Conv2D(64, (3, 3), activation='relu'))\n",
        "model.add(MaxPooling2D((2, 2)))\n",
        "\n",
        "model.add(Conv2D(128, (3, 3), activation='relu'))\n",
        "model.add(MaxPooling2D((2, 2)))\n",
        "\n",
        "model.add(Flatten())\n",
        "model.add(Dense(128, activation='relu'))\n",
        "model.add(Dense(3, activation='softmax'))  # Assuming 3 classes: Covid, Normal, Viral Pneumonia\n",
        "\n",
        "\n",
        "model.compile(optimizer=\"adam\", loss=\"categorical_crossentropy\", metrics=[\"accuracy\"])\n",
        "history = model.fit(X_train, epochs=30, validation_data=X_test)"
      ],
      "metadata": {
        "colab": {
          "base_uri": "https://localhost:8080/"
        },
        "id": "blZHP4Gw3h4n",
        "outputId": "62a1a705-d814-4f22-81ff-c1af85e8b516"
      },
      "execution_count": null,
      "outputs": [
        {
          "output_type": "stream",
          "name": "stdout",
          "text": [
            "Epoch 1/30\n",
            "7/7 [==============================] - 79s 10s/step - loss: 1.0253 - accuracy: 0.5400 - val_loss: 1.0394 - val_accuracy: 0.6667\n",
            "Epoch 2/30\n",
            "7/7 [==============================] - 15s 2s/step - loss: 0.8009 - accuracy: 0.7100 - val_loss: 0.9809 - val_accuracy: 0.6970\n",
            "Epoch 3/30\n",
            "7/7 [==============================] - 15s 2s/step - loss: 0.7033 - accuracy: 0.7150 - val_loss: 0.8161 - val_accuracy: 0.6818\n",
            "Epoch 4/30\n",
            "7/7 [==============================] - 15s 2s/step - loss: 0.6335 - accuracy: 0.7200 - val_loss: 0.5854 - val_accuracy: 0.6818\n",
            "Epoch 5/30\n",
            "7/7 [==============================] - 17s 2s/step - loss: 0.6408 - accuracy: 0.7250 - val_loss: 0.9238 - val_accuracy: 0.6061\n",
            "Epoch 6/30\n",
            "7/7 [==============================] - 14s 2s/step - loss: 0.5127 - accuracy: 0.7800 - val_loss: 0.6197 - val_accuracy: 0.6970\n",
            "Epoch 7/30\n",
            "7/7 [==============================] - 15s 2s/step - loss: 0.5332 - accuracy: 0.7650 - val_loss: 0.4775 - val_accuracy: 0.6818\n",
            "Epoch 8/30\n",
            "7/7 [==============================] - 16s 2s/step - loss: 0.4150 - accuracy: 0.8400 - val_loss: 0.8833 - val_accuracy: 0.6061\n",
            "Epoch 9/30\n",
            "7/7 [==============================] - 16s 2s/step - loss: 0.5520 - accuracy: 0.8000 - val_loss: 0.4335 - val_accuracy: 0.7424\n",
            "Epoch 10/30\n",
            "7/7 [==============================] - 16s 2s/step - loss: 0.5142 - accuracy: 0.7950 - val_loss: 0.4776 - val_accuracy: 0.7273\n",
            "Epoch 11/30\n",
            "7/7 [==============================] - 15s 2s/step - loss: 0.5043 - accuracy: 0.7800 - val_loss: 0.4727 - val_accuracy: 0.7424\n",
            "Epoch 12/30\n",
            "7/7 [==============================] - 15s 2s/step - loss: 0.4100 - accuracy: 0.8500 - val_loss: 0.7566 - val_accuracy: 0.6818\n",
            "Epoch 13/30\n",
            "7/7 [==============================] - 15s 2s/step - loss: 0.4238 - accuracy: 0.8300 - val_loss: 0.4138 - val_accuracy: 0.7879\n",
            "Epoch 14/30\n",
            "7/7 [==============================] - 15s 2s/step - loss: 0.4532 - accuracy: 0.8300 - val_loss: 0.4197 - val_accuracy: 0.7424\n",
            "Epoch 15/30\n",
            "7/7 [==============================] - 16s 2s/step - loss: 0.3282 - accuracy: 0.8700 - val_loss: 0.5821 - val_accuracy: 0.7121\n",
            "Epoch 16/30\n",
            "7/7 [==============================] - 15s 2s/step - loss: 0.4129 - accuracy: 0.8450 - val_loss: 0.3464 - val_accuracy: 0.8333\n",
            "Epoch 17/30\n",
            "7/7 [==============================] - 14s 2s/step - loss: 0.4413 - accuracy: 0.8150 - val_loss: 0.3379 - val_accuracy: 0.8636\n",
            "Epoch 18/30\n",
            "7/7 [==============================] - 15s 2s/step - loss: 0.4624 - accuracy: 0.8150 - val_loss: 0.5930 - val_accuracy: 0.6970\n",
            "Epoch 19/30\n",
            "7/7 [==============================] - 14s 2s/step - loss: 0.3765 - accuracy: 0.8400 - val_loss: 0.5699 - val_accuracy: 0.7121\n",
            "Epoch 20/30\n",
            "7/7 [==============================] - 14s 2s/step - loss: 0.3281 - accuracy: 0.8600 - val_loss: 0.7604 - val_accuracy: 0.6970\n",
            "Epoch 21/30\n",
            "7/7 [==============================] - 15s 2s/step - loss: 0.3818 - accuracy: 0.8750 - val_loss: 0.5812 - val_accuracy: 0.6970\n",
            "Epoch 22/30\n",
            "7/7 [==============================] - 15s 2s/step - loss: 0.3464 - accuracy: 0.8750 - val_loss: 0.7462 - val_accuracy: 0.7121\n",
            "Epoch 23/30\n",
            "7/7 [==============================] - 16s 2s/step - loss: 0.3262 - accuracy: 0.8750 - val_loss: 0.5665 - val_accuracy: 0.6970\n",
            "Epoch 24/30\n",
            "7/7 [==============================] - 15s 2s/step - loss: 0.3018 - accuracy: 0.8800 - val_loss: 0.6044 - val_accuracy: 0.7273\n",
            "Epoch 25/30\n",
            "7/7 [==============================] - 16s 2s/step - loss: 0.3408 - accuracy: 0.8550 - val_loss: 0.4433 - val_accuracy: 0.7424\n",
            "Epoch 26/30\n",
            "7/7 [==============================] - 15s 2s/step - loss: 0.3054 - accuracy: 0.8800 - val_loss: 0.3937 - val_accuracy: 0.8030\n",
            "Epoch 27/30\n",
            "7/7 [==============================] - 16s 2s/step - loss: 0.3162 - accuracy: 0.8700 - val_loss: 0.7262 - val_accuracy: 0.6970\n",
            "Epoch 28/30\n",
            "7/7 [==============================] - 15s 2s/step - loss: 0.2938 - accuracy: 0.8850 - val_loss: 0.5207 - val_accuracy: 0.7727\n",
            "Epoch 29/30\n",
            "7/7 [==============================] - 16s 2s/step - loss: 0.3541 - accuracy: 0.8600 - val_loss: 0.2955 - val_accuracy: 0.8636\n",
            "Epoch 30/30\n",
            "7/7 [==============================] - 15s 2s/step - loss: 0.3219 - accuracy: 0.8550 - val_loss: 0.6781 - val_accuracy: 0.7273\n"
          ]
        }
      ]
    },
    {
      "cell_type": "code",
      "source": [
        "#evaluate\n",
        "\n",
        "import matplotlib.pyplot as plt\n",
        "\n",
        "plt.plot(history.history[\"accuracy\"])\n",
        "plt.plot(history.history[\"val_accuracy\"])\n",
        "plt.title(\"Model Accuracy\")\n",
        "plt.xlabel(\"Epochs\")\n",
        "plt.ylabel(\"Accuracy\")\n",
        "plt.legend([\"Train\", \"Validation\"])\n",
        "plt.show()"
      ],
      "metadata": {
        "colab": {
          "base_uri": "https://localhost:8080/",
          "height": 472
        },
        "id": "Gvf8nuU9M0Ow",
        "outputId": "10f7bb95-a142-4831-ce38-7b07933809de"
      },
      "execution_count": null,
      "outputs": [
        {
          "output_type": "display_data",
          "data": {
            "text/plain": [
              "<Figure size 640x480 with 1 Axes>"
            ],
            "image/png": "[encoded data removed]"
          },
          "metadata": {}
        }
      ]
    },
    {
      "cell_type": "code",
      "source": [
        "#create class\n",
        "#0 = covid\n",
        "#1 = normal\n",
        "#2 = viral pneumonia\n",
        "\n",
        "class_labels = X_train.class_indices\n",
        "class_names = {value: key for key, value in class_labels.items()}\n",
        "print(\"Class Names:\", class_names)"
      ],
      "metadata": {
        "colab": {
          "base_uri": "https://localhost:8080/"
        },
        "id": "RQtbgwun_tyb",
        "outputId": "cc778a43-cb3e-45bf-be24-59a240d0b6a0"
      },
      "execution_count": 11,
      "outputs": [
        {
          "output_type": "stream",
          "name": "stdout",
          "text": [
            "Class Names: {0: 'Covid', 1: 'Normal', 2: 'Viral Pneumonia'}\n"
          ]
        }
      ]
    },
    {
      "cell_type": "code",
      "source": [
        "#test with input\n",
        "\n",
        "from tensorflow.keras.preprocessing import image\n",
        "\n",
        "img_path = \"/content/drive/MyDrive/Colab Notebooks/Data Sci/Covid19-dataset/test/Covid/0108.jpeg\" #input path\n",
        "img = image.load_img(img_path, target_size=(128, 128))\n",
        "img_arr = image.img_to_array(img)\n",
        "img_arr = np.expand_dims(img_arr, axis=0)\n",
        "img_arr = img_arr / 255.0\n",
        "pred = model.predict(img_arr)\n",
        "pred_class = np.argmax(pred)\n",
        "class_names[pred_class]"
      ],
      "metadata": {
        "colab": {
          "base_uri": "https://localhost:8080/",
          "height": 52
        },
        "id": "Eegno65s_Cf1",
        "outputId": "f2d0a3a3-f607-47eb-e5ab-01bf161083b9"
      },
      "execution_count": 12,
      "outputs": [
        {
          "output_type": "stream",
          "name": "stdout",
          "text": [
            "1/1 [==============================] - 0s 28ms/step\n"
          ]
        },
        {
          "output_type": "execute_result",
          "data": {
            "text/plain": [
              "'Covid'"
            ],
            "application/vnd.google.colaboratory.intrinsic+json": {
              "type": "string"
            }
          },
          "metadata": {},
          "execution_count": 12
        }
      ]
    },
    {
      "cell_type": "code",
      "source": [
        "#save model to pkl file\n",
        "\n",
        "import pickle\n",
        "\n",
        "model_pkl_file = \"covid_datection.pkl\"\n",
        "\n",
        "with open(model_pkl_file, 'wb') as file:\n",
        "    pickle.dump(model, file)\n"
      ],
      "metadata": {
        "id": "eeIV_syqk6Xu"
      },
      "execution_count": null,
      "outputs": []
    },
    {
      "cell_type": "code",
      "source": [
        "#input\n",
        "\n",
        "\n",
        "from tensorflow.keras.preprocessing import image\n",
        "from tensorflow.keras.models import Sequential\n",
        "import pickle\n",
        "\n",
        "input_path = \"/content/564000004602602.jpg\" #input path\n",
        "\n",
        "input_image = image.load_img(input_path, target_size=(128, 128))\n",
        "img_arr = image.img_to_array(input_image)\n",
        "img_arr = np.expand_dims(img_arr, axis=0)\n",
        "img_arr = img_arr / 255.0\n",
        "\n",
        "\n",
        "#output\n",
        "with open('covid_datection.pkl', 'rb') as file:\n",
        "    # Load the data from the pickle file\n",
        "    model = pickle.load(file)\n",
        "\n",
        "pred = model.predict(img_arr)\n",
        "pred_class = np.argmax(pred)\n",
        "class_names[pred_class]\n"
      ],
      "metadata": {
        "id": "I9B8PwbS6ZAu",
        "colab": {
          "base_uri": "https://localhost:8080/",
          "height": 52
        },
        "outputId": "21685265-7f0c-457e-d3f6-2a7c14ec1fc8"
      },
      "execution_count": 18,
      "outputs": [
        {
          "output_type": "stream",
          "name": "stdout",
          "text": [
            "1/1 [==============================] - 0s 90ms/step\n"
          ]
        },
        {
          "output_type": "execute_result",
          "data": {
            "text/plain": [
              "'Covid'"
            ],
            "application/vnd.google.colaboratory.intrinsic+json": {
              "type": "string"
            }
          },
          "metadata": {},
          "execution_count": 18
        }
      ]
    },
    {
      "cell_type": "code",
      "source": [],
      "metadata": {
        "id": "APhHyYFh6Y_i"
      },
      "execution_count": null,
      "outputs": []
    }
  ]
}